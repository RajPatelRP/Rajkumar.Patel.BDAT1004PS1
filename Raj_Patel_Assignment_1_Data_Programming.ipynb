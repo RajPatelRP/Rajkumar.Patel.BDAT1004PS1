{
 "cells": [
  {
   "cell_type": "markdown",
   "id": "0e60e20d",
   "metadata": {},
   "source": [
    "# Problem Set 1"
   ]
  },
  {
   "cell_type": "markdown",
   "id": "dfb5f1d3",
   "metadata": {},
   "source": [
    " "
   ]
  },
  {
   "cell_type": "markdown",
   "id": "b1854d10",
   "metadata": {},
   "source": [
    "### Question 1 -- What data type is each of the following?"
   ]
  },
  {
   "cell_type": "code",
   "execution_count": 1,
   "id": "ef0860f1",
   "metadata": {},
   "outputs": [],
   "source": [
    "import math"
   ]
  },
  {
   "cell_type": "code",
   "execution_count": 2,
   "id": "4aa7c55c",
   "metadata": {},
   "outputs": [
    {
     "name": "stdout",
     "output_type": "stream",
     "text": [
      "Type of 5  : <class 'int'>\n",
      "Type of 5.0: <class 'float'>\n",
      "Type of 5>1: <class 'bool'>\n",
      "Type of '5': <class 'str'>\n",
      "Type of 5*2: <class 'int'>\n",
      "Type of '5'*2: <class 'str'>\n",
      "Type of '5'+'2': <class 'str'>\n",
      "Type of 5/2: <class 'float'>\n",
      "Type of 5%2: <class 'int'>\n",
      "Type of {5,2,1}: <class 'set'>\n",
      "Type of 5==3: <class 'bool'>\n"
     ]
    }
   ],
   "source": [
    "## Here I have find the datatype of the given elements in the file.\n",
    "\n",
    "#1\n",
    "print(\"Type of 5  :\" ,  type(5))\n",
    "#2\n",
    "print(\"Type of 5.0:\", type(5.0))\n",
    "#3\n",
    "print(\"Type of 5>1:\",type(5>1))\n",
    "#4\n",
    "print(\"Type of '5':\",type('5'))\n",
    "#5\n",
    "print (\"Type of 5*2:\",type(5*2))\n",
    "#6\n",
    "print(\"Type of '5'*2:\",type ('5'*2))\n",
    "#7\n",
    "print(\"Type of '5'+'2':\",type ('5'+'2'))\n",
    "#8\n",
    "print(\"Type of 5/2:\",type(5/2))\n",
    "#9\n",
    "print(\"Type of 5%2:\",type(5%2))\n",
    "#10\n",
    "print(\"Type of {5,2,1}:\",type({5,2,1}))\n",
    "#11\n",
    "print(\"Type of 5==3:\",type(5==3))"
   ]
  },
  {
   "cell_type": "code",
   "execution_count": 4,
   "id": "f0121170",
   "metadata": {},
   "outputs": [
    {
     "name": "stdout",
     "output_type": "stream",
     "text": [
      "Type of Pi: <class 'float'>\n"
     ]
    }
   ],
   "source": [
    "#12\n",
    "print(\"Type of Pi:\",type(math.pi))"
   ]
  },
  {
   "cell_type": "markdown",
   "id": "9e71dada",
   "metadata": {},
   "source": [
    "#### Here form the above results we can see that all the given number and mathamatical equation has different datatypes such as integar,float,boolean.  "
   ]
  },
  {
   "cell_type": "markdown",
   "id": "e761b6ef",
   "metadata": {},
   "source": [
    " "
   ]
  },
  {
   "cell_type": "markdown",
   "id": "a98bd790",
   "metadata": {},
   "source": [
    "### Question 2 -- Write (and evaluate) python expressions that answers asked questions:"
   ]
  },
  {
   "cell_type": "code",
   "execution_count": 22,
   "id": "9c54d81b",
   "metadata": {},
   "outputs": [
    {
     "name": "stdout",
     "output_type": "stream",
     "text": [
      "Length of the given string is: 34\n"
     ]
    }
   ],
   "source": [
    "# Finding how many letters are there in given string.\n",
    "Given_String = 'Supercalifragilisticexpialidocious'\n",
    "print(\"Length of the given string is:\",len(Given_String))"
   ]
  },
  {
   "cell_type": "code",
   "execution_count": 23,
   "id": "305a671a",
   "metadata": {},
   "outputs": [
    {
     "name": "stdout",
     "output_type": "stream",
     "text": [
      "True\n"
     ]
    }
   ],
   "source": [
    "# Finding 'ice' in the given string.\n",
    "Given_Substring = 'ice'\n",
    "match = Given_Substring in Given_String\n",
    "print(match)"
   ]
  },
  {
   "cell_type": "code",
   "execution_count": 24,
   "id": "1d249257",
   "metadata": {},
   "outputs": [
    {
     "name": "stdout",
     "output_type": "stream",
     "text": [
      "Supercalifragilisticexpialidocious\n"
     ]
    }
   ],
   "source": [
    "# Finding the longest word from the given three words. \n",
    "Max_Words = ['Supercalifragilisticexpialidocious','Honorificabilitudinitatibus','Bababadalgharaghtakamminarronnkonn']\n",
    "Longest_words = max(Max_Words)\n",
    "print(Longest_words)"
   ]
  },
  {
   "cell_type": "code",
   "execution_count": 25,
   "id": "7b5b038e",
   "metadata": {},
   "outputs": [
    {
     "name": "stdout",
     "output_type": "stream",
     "text": [
      "First composer from the list: Bartok\n",
      "Last composer from the list : Buxtehude\n"
     ]
    }
   ],
   "source": [
    "# Finding which composer comes first and last in the dictionary.\n",
    "Composers = ['Berlioz','Borodin','Brian','Bartok','Bellini','Buxtehude','Bernstein']\n",
    "First_composers = min(Composers)\n",
    "Last_composers = max(Composers)\n",
    "print(\"First composer from the list:\",First_composers)\n",
    "print(\"Last composer from the list :\",Last_composers)"
   ]
  },
  {
   "cell_type": "markdown",
   "id": "7eae6743",
   "metadata": {},
   "source": [
    "#### Here wih the help of len,in,max and min function I have found out string length, biggest word and first and last composer. "
   ]
  },
  {
   "cell_type": "markdown",
   "id": "a68d0dfc",
   "metadata": {},
   "source": [
    " "
   ]
  },
  {
   "cell_type": "markdown",
   "id": "abeedf34",
   "metadata": {},
   "source": [
    "### Quesion 3 -- Area of the Triangle"
   ]
  },
  {
   "cell_type": "code",
   "execution_count": 9,
   "id": "ad51024e",
   "metadata": {},
   "outputs": [],
   "source": [
    "# First we need to find the semi perimeter of the triangle then with the help of the math.sqrt I have implemented equation of \n",
    "# triangle.\n",
    "def Area_of_triangle(a,b,c):\n",
    "    semiperimeter = (a+b+c)/2\n",
    "    Area = math.sqrt(semiperimeter*(semiperimeter-a)*(semiperimeter-b)*(semiperimeter-c))\n",
    "    print(\"Based on given parameter area of triangle is:\",Area)"
   ]
  },
  {
   "cell_type": "code",
   "execution_count": 10,
   "id": "cdbbe8af",
   "metadata": {},
   "outputs": [
    {
     "name": "stdout",
     "output_type": "stream",
     "text": [
      "Based on given parameter area of triangle is: 1.7320508075688772\n"
     ]
    }
   ],
   "source": [
    "Area_of_triangle(2,2,2)"
   ]
  },
  {
   "cell_type": "markdown",
   "id": "efed35c5",
   "metadata": {},
   "source": [
    " "
   ]
  },
  {
   "cell_type": "markdown",
   "id": "55371c4c",
   "metadata": {},
   "source": [
    "### Question 4 -- Odd and Interger into seperate arrays"
   ]
  },
  {
   "cell_type": "code",
   "execution_count": 1,
   "id": "94157823",
   "metadata": {},
   "outputs": [
    {
     "name": "stdout",
     "output_type": "stream",
     "text": [
      "Total number of elements which is to be stored in the array: 5\n",
      "Element - 0: 25\n",
      "Element - 1: 47\n",
      "Element - 2: 42\n",
      "Element - 3: 56\n",
      "Element - 4: 32\n",
      "Even numbers from the input elements: [42, 56, 32]\n",
      "Odd numbers from the input elements: [25, 47]\n"
     ]
    }
   ],
   "source": [
    "# Here with the help of the input function we asking the use for the input. \n",
    "Total_element = int(input(\"Total number of elements which is to be stored in the array: \"))\n",
    "\n",
    "Input_Elements = [] \n",
    "for E in range(Total_element):\n",
    "    element = int(input(\"Element - {}: \".format(E)))\n",
    "    Input_Elements.append(element)\n",
    "\n",
    "Odd_numbers = []\n",
    "Even_numbers = []\n",
    "# deciding the element is the odd or even\n",
    "for E in Input_Elements:\n",
    "    if E % 2 == 0:  # if the number is dividable by 2 then even number.\n",
    "        Even_numbers.append(E)\n",
    "    else:\n",
    "        Odd_numbers.append(E)  # otherwisw it is odd number.\n",
    "\n",
    "print(\"Even numbers from the input elements:\", Even_numbers)\n",
    "print(\"Odd numbers from the input elements:\", Odd_numbers)"
   ]
  },
  {
   "cell_type": "markdown",
   "id": "19f6d42a",
   "metadata": {},
   "source": [
    " "
   ]
  },
  {
   "cell_type": "markdown",
   "id": "0fc42db7",
   "metadata": {},
   "source": [
    "### Question 5 -- Defining the Inside function. "
   ]
  },
  {
   "cell_type": "code",
   "execution_count": 12,
   "id": "607f7c22",
   "metadata": {},
   "outputs": [],
   "source": [
    "# defining the inside function that returns the point of the rectangle.\n",
    "def Inside(X, Y, X1, Y1, X2, Y2):\n",
    "    if X >= X1 and X <= X2 and Y >= Y1 and Y <= Y2:\n",
    "        return True\n",
    "    else:\n",
    "        return False"
   ]
  },
  {
   "cell_type": "code",
   "execution_count": 13,
   "id": "4148c6ad",
   "metadata": {},
   "outputs": [
    {
     "data": {
      "text/plain": [
       "True"
      ]
     },
     "execution_count": 13,
     "metadata": {},
     "output_type": "execute_result"
    }
   ],
   "source": [
    "Inside(1,1,0,0,2,3) "
   ]
  },
  {
   "cell_type": "code",
   "execution_count": 14,
   "id": "e640b36a",
   "metadata": {},
   "outputs": [
    {
     "data": {
      "text/plain": [
       "False"
      ]
     },
     "execution_count": 14,
     "metadata": {},
     "output_type": "execute_result"
    }
   ],
   "source": [
    "Inside(-1,-1,0,0,2,3)"
   ]
  },
  {
   "cell_type": "markdown",
   "id": "9a2fd652",
   "metadata": {},
   "source": [
    " "
   ]
  },
  {
   "cell_type": "markdown",
   "id": "6a101cc6",
   "metadata": {},
   "source": [
    "### Question 6"
   ]
  },
  {
   "cell_type": "code",
   "execution_count": 2,
   "id": "0e66da1c",
   "metadata": {},
   "outputs": [],
   "source": [
    "def pig(word): # defining the pig function\n",
    "    vowels = ['a', 'e', 'i', 'o', 'u'] # defining the vowels\n",
    "    word = word.lower()  # Converting words to lowercase\n",
    "    \n",
    "    if word[0] in vowels:  # checking that if the word starts with a vowel or not\n",
    "        return word + 'way' # if the word is starting with the vowels that adding \"way\" at the end.\n",
    "    else:  # If the word is starting with a consonant\n",
    "        prefix = ''  \n",
    "        for i in range(len(word)): \n",
    "            if word[i] not in vowels: # if the starting of the word is not in the vowels.\n",
    "                prefix = prefix + word[i]  # adding prefix.\n",
    "            else:\n",
    "                break\n",
    "        return word[i:] + prefix + 'ay'  # returning the whole word."
   ]
  },
  {
   "cell_type": "code",
   "execution_count": 3,
   "id": "74ea38b4",
   "metadata": {},
   "outputs": [
    {
     "name": "stdout",
     "output_type": "stream",
     "text": [
      "appyhay\n",
      "enterway\n",
      "otherway\n",
      "eanutpay\n",
      "airlineway\n"
     ]
    }
   ],
   "source": [
    "# After the execution of below print commands we can see that created function pig works properly.\n",
    "print(pig('happy'))    \n",
    "print(pig('Enter'))    \n",
    "print(pig('Other'))    \n",
    "print(pig('Peanut'))   \n",
    "print(pig('Airline')) "
   ]
  },
  {
   "cell_type": "markdown",
   "id": "0e88f69b",
   "metadata": {},
   "source": [
    " "
   ]
  },
  {
   "cell_type": "markdown",
   "id": "965cd8a4",
   "metadata": {},
   "source": [
    "### Question 7 -- bloodtype"
   ]
  },
  {
   "cell_type": "code",
   "execution_count": 4,
   "id": "56ded417",
   "metadata": {},
   "outputs": [
    {
     "name": "stdout",
     "output_type": "stream",
     "text": [
      "The total number of patients with blood type AB: 13\n",
      "The total number of patients with blood type B: 1\n",
      "The total number of patients with blood type O: 15\n",
      "The total number of patients with blood type A: 15\n"
     ]
    }
   ],
   "source": [
    "# Here we are importing the counter object to count the occurance.\n",
    "from collections import Counter\n",
    "# defining the bldcount function. \n",
    "def bldcount(name):\n",
    "    try:\n",
    "        with open('C:/Users/Raj Patel/Documents/College/Second Year/Ethan Davis/bloodtype1.txt', 'r') as file: # opening the file. \n",
    "            blood_types = file.read().split() # file.read help us in reading the file as whole string and with split we will spilt whole string into lists. \n",
    "            counts = Counter(blood_types) # counting the occurence.\n",
    "\n",
    "        for blood_type, count in counts.items(): \n",
    "            print(f\"The total number of patients with blood type {blood_type}: {count}\") \n",
    "\n",
    "    except FileNotFoundError:\n",
    "        print(\"File not found.\")\n",
    "\n",
    "# Calling the function and giving \"bloodtype1\" file as an argument. \n",
    "bldcount(\"bloodtype1.txt\")"
   ]
  },
  {
   "cell_type": "markdown",
   "id": "1573eb92",
   "metadata": {},
   "source": [
    " "
   ]
  },
  {
   "cell_type": "markdown",
   "id": "a302a9fa",
   "metadata": {},
   "source": [
    "### Question 8 -- Currency Conversion"
   ]
  },
  {
   "cell_type": "code",
   "execution_count": 5,
   "id": "871f39fd",
   "metadata": {},
   "outputs": [
    {
     "name": "stdout",
     "output_type": "stream",
     "text": [
      "122.96544\n",
      "103.45157\n",
      "1.241401\n",
      "2.3323400000000003\n",
      "1.77643\n"
     ]
    }
   ],
   "source": [
    "# defining the curconv function.\n",
    "def curconv(currency, amount): # Accepting two parameters currency string and amount that needs to be converted.\n",
    "    with open('C:/Users/Raj Patel/Documents/College/Second Year/Ethan Davis/currencies.txt', 'r') as file:\n",
    "        lines = file.readlines()  # Here I have read all the lines from the file.\n",
    "        for L in lines: # Looping through all the lines. \n",
    "            split_part= L.split() \n",
    "            if split_part[0] == currency: \n",
    "                conversion_rate = float(split_part[1]) \n",
    "                converted_amount = amount * conversion_rate # here we are converting currencies.\n",
    "                return converted_amount\n",
    "            \n",
    "print(curconv('EUR', 100)) \n",
    "print(curconv('AUD', 100)) \n",
    "print(curconv('JPY', 100)) \n",
    "print(curconv('PHP', 100)) \n",
    "print(curconv('INR', 100)) "
   ]
  },
  {
   "cell_type": "markdown",
   "id": "823c1ae1",
   "metadata": {},
   "source": [
    "### Question 9 -- Finding Exceptions."
   ]
  },
  {
   "cell_type": "code",
   "execution_count": 34,
   "id": "837976de",
   "metadata": {},
   "outputs": [
    {
     "name": "stdout",
     "output_type": "stream",
     "text": [
      "Thrown Exception: unsupported operand type(s) for +: 'int' and 'str'\n"
     ]
    }
   ],
   "source": [
    "# Exception 1:Trying to add incompatible variables, as in adding 6 + ‘a’\n",
    "try:\n",
    "    result = 6 + 'a'\n",
    "except TypeError as e:\n",
    "    print(f\"Thrown Exception: {e}\")"
   ]
  },
  {
   "cell_type": "code",
   "execution_count": 7,
   "id": "cc48811b",
   "metadata": {},
   "outputs": [
    {
     "name": "stdout",
     "output_type": "stream",
     "text": [
      "Thrown Exception: list index out of range\n"
     ]
    }
   ],
   "source": [
    "# Exception 2: Referring to the 12th item of a list that has only 10 items\n",
    "List = ['A','R','R','A','Y','O','F','T','E','N']\n",
    "\n",
    "try:\n",
    "    item = List[12]\n",
    "    print(item)\n",
    "except IndexError as e:\n",
    "    print(f\"Thrown Exception: {e}\")"
   ]
  },
  {
   "cell_type": "code",
   "execution_count": 36,
   "id": "73880345",
   "metadata": {},
   "outputs": [
    {
     "name": "stdout",
     "output_type": "stream",
     "text": [
      "Thrown Exception: math domain error\n"
     ]
    }
   ],
   "source": [
    "# Exception 3: Using a value that is out of range for a function’s input, such as calling math.sqrt(-1.0) \n",
    "try:\n",
    "    Equation = math.sqrt(-1.0)\n",
    "except ValueError as e:\n",
    "    print(f\"Thrown Exception: {e}\")"
   ]
  },
  {
   "cell_type": "code",
   "execution_count": 7,
   "id": "a8cf8f09",
   "metadata": {},
   "outputs": [
    {
     "name": "stdout",
     "output_type": "stream",
     "text": [
      "Exception: name 'x' is not defined\n"
     ]
    }
   ],
   "source": [
    "# Exception 4: Using an undeclared variable, such as print(x) when x has not been defined\n",
    "try:\n",
    "    print(x)\n",
    "except NameError as e:\n",
    "    print(f\"Thrown Exception: {e}\")"
   ]
  },
  {
   "cell_type": "code",
   "execution_count": 37,
   "id": "65f5ee82",
   "metadata": {},
   "outputs": [
    {
     "name": "stdout",
     "output_type": "stream",
     "text": [
      "Thrown Exception: [Errno 2] No such file or directory: 'Data_programming_ASSIGN1.txt'\n"
     ]
    }
   ],
   "source": [
    "# Exception 5: Trying to open a file that does not exist, such as mistyping the file name or looking in the wrong directory.\n",
    "try:\n",
    "    with open('Data_programming_ASSIGN1.txt', 'r') as file:\n",
    "        content = file.read()\n",
    "except FileNotFoundError as e:\n",
    "    print(f\"Thrown Exception: {e}\")"
   ]
  },
  {
   "cell_type": "markdown",
   "id": "ca1b6d08",
   "metadata": {},
   "source": [
    "  "
   ]
  },
  {
   "cell_type": "markdown",
   "id": "14291da4",
   "metadata": {},
   "source": [
    "### Question 10 -- Encryption"
   ]
  },
  {
   "cell_type": "code",
   "execution_count": 9,
   "id": "c2292d14",
   "metadata": {},
   "outputs": [],
   "source": [
    "def frequencies(text):\n",
    "    Encryption_Letters = 'abcdefghijklmnopqrstuvwxyz' # defining the according to the file.\n",
    "    frequency_counter = {}  #defining frequency counter dictionary\n",
    "\n",
    "    for character in text.lower(): #converting text to lower string\n",
    "        if character in Encryption_Letters: \n",
    "            if character in frequency_counter: # it checks that character is in the list or not\n",
    "                frequency_counter[character] = frequency_counter[char] + 1 # if it is then it increases the count.\n",
    "            else:\n",
    "                frequency_counter[character] = 1 # otherwise it assigns 1.\n",
    "\n",
    "    frequency_list = [frequency_counter.get(letter, 0) for letter in Encryption_Letters]\n",
    "    return frequency_list"
   ]
  },
  {
   "cell_type": "code",
   "execution_count": 10,
   "id": "4b81666b",
   "metadata": {},
   "outputs": [
    {
     "name": "stdout",
     "output_type": "stream",
     "text": [
      "[1, 1, 1, 3, 5, 1, 1, 2, 1, 0, 1, 0, 1, 2, 4, 0, 1, 2, 0, 3, 1, 0, 1, 1, 0, 0]\n",
      "[1, 0, 0, 0, 1, 0, 0, 0, 0, 0, 0, 1, 0, 0, 0, 2, 0, 0, 0, 0, 0, 0, 0, 0, 0, 0]\n"
     ]
    }
   ],
   "source": [
    "print(frequencies('The quick red fox got bored and went home.'))\n",
    "print(frequencies('apple'))"
   ]
  },
  {
   "cell_type": "markdown",
   "id": "49635cc7",
   "metadata": {},
   "source": [
    "  "
   ]
  },
  {
   "cell_type": "code",
   "execution_count": null,
   "id": "57f89e2f",
   "metadata": {},
   "outputs": [],
   "source": []
  }
 ],
 "metadata": {
  "kernelspec": {
   "display_name": "Python 3 (ipykernel)",
   "language": "python",
   "name": "python3"
  },
  "language_info": {
   "codemirror_mode": {
    "name": "ipython",
    "version": 3
   },
   "file_extension": ".py",
   "mimetype": "text/x-python",
   "name": "python",
   "nbconvert_exporter": "python",
   "pygments_lexer": "ipython3",
   "version": "3.9.12"
  }
 },
 "nbformat": 4,
 "nbformat_minor": 5
}
